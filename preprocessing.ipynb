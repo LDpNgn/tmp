{
 "cells": [
  {
   "cell_type": "code",
   "execution_count": 1,
   "id": "57d9e9e3",
   "metadata": {},
   "outputs": [],
   "source": [
    "import pandas as pd \n",
    "import numpy as np"
   ]
  },
  {
   "cell_type": "code",
   "execution_count": 6,
   "id": "6a7d866b",
   "metadata": {},
   "outputs": [],
   "source": [
    "df20_23 = pd.read_excel(\"data\\BCA (2020-2023) (12.25.2023).xlsx\", sheet_name='Data')\n",
    "df23_25 = pd.read_excel(\"data\\BCA (2023-T5.2025).xlsx\", sheet_name=\"DATA BCA\")"
   ]
  },
  {
   "cell_type": "code",
   "execution_count": 8,
   "id": "a7bae1e1",
   "metadata": {},
   "outputs": [
    {
     "data": {
      "text/plain": [
       "Index(['Năm', 'Tháng ', 'Quí', 'Ngày', 'BKS', 'CHỦ SỞ HỮU', 'Địa chỉ', 'Huyện',\n",
       "       'Loại xe chuẩn', 'Loại xe', 'SPV', 'Loại xe 2', 'Thương hiệu',\n",
       "       'Thương hiệu DAC', 'Số loại', 'Đối thủ chính', 'Số loại gốc', 'SL',\n",
       "       'Dòng', 'Phân khúc', 'Phân khúc 2', 'SK', 'SM', 'CKD-CBU', 'Tỉnh',\n",
       "       'Khu vực', 'Miền', 'KV DAC', 'Tổng tải', 'Tự trọng', 'Tải trọng', 'CHỖ',\n",
       "       'NẴM SX', 'NC SX', 'N.LIỆU', 'Dẫn động', 'Phân tải ben', 'Phân tải',\n",
       "       'Dung tích'],\n",
       "      dtype='object')"
      ]
     },
     "execution_count": 8,
     "metadata": {},
     "output_type": "execute_result"
    }
   ],
   "source": [
    "df20_23.columns"
   ]
  },
  {
   "cell_type": "code",
   "execution_count": 9,
   "id": "0d66569d",
   "metadata": {},
   "outputs": [
    {
     "data": {
      "text/plain": [
       "Index(['Năm', 'Tháng ', 'Quí', 'BKS', 'Loại xe chuẩn', 'Loại xe 2 ', 'Loại xe',\n",
       "       'Thương hiệu', 'ĐỐI THỦ ', 'Nhóm xe ', 'Số loại', 'Đối thị SSSP', 'SL',\n",
       "       'Đối thủ chính.', 'Dòng', 'Phân khúc', 'SK', 'Tỉnh', 'Khu vực',\n",
       "       'Miền (Chuẩn)', 'Miền (TB 15/2024)', 'CHỖ', 'NẴM SX', 'Dẫn động',\n",
       "       'Đại lý bán', 'Miền Đl ( TB15 )', 'Bán chéo vùng ', 'Đại lý PDI',\n",
       "       'Check PDI '],\n",
       "      dtype='object')"
      ]
     },
     "execution_count": 9,
     "metadata": {},
     "output_type": "execute_result"
    }
   ],
   "source": [
    "df23_25.columns"
   ]
  },
  {
   "cell_type": "markdown",
   "id": "94a1eda6",
   "metadata": {},
   "source": [
    "Qua kiểm tra, df20_23 vẫn có missing data ở các cột 'Tổng tải', 'Tự trọng', 'Tải trọng'. Missing khoảng 1544 record. Dẫn đến việc missing data ở df_23_25 sau khi merge là điều hiển nhiên."
   ]
  },
  {
   "cell_type": "markdown",
   "id": "bce0c49e",
   "metadata": {},
   "source": [
    "merge df20_23['Tổng tải', 'Tự trọng', 'Tải trọng'] vào df23_25 key = 'Số loại'"
   ]
  },
  {
   "cell_type": "code",
   "execution_count": 7,
   "id": "ac0e1216",
   "metadata": {},
   "outputs": [
    {
     "name": "stderr",
     "output_type": "stream",
     "text": [
      "C:\\Users\\dell\\AppData\\Local\\Temp\\ipykernel_8344\\421109487.py:3: SettingWithCopyWarning: \n",
      "A value is trying to be set on a copy of a slice from a DataFrame\n",
      "\n",
      "See the caveats in the documentation: https://pandas.pydata.org/pandas-docs/stable/user_guide/indexing.html#returning-a-view-versus-a-copy\n",
      "  df_merge_part_1.drop_duplicates(inplace=True)\n"
     ]
    }
   ],
   "source": [
    "cols_to_merge = ['Số loại', 'Tổng tải', 'Tự trọng', 'Tải trọng']\n",
    "df_merge_part_1 = df20_23[cols_to_merge]\n",
    "df_merge_part_1.drop_duplicates(inplace=True)"
   ]
  },
  {
   "cell_type": "code",
   "execution_count": null,
   "id": "970153a5",
   "metadata": {},
   "outputs": [
    {
     "name": "stderr",
     "output_type": "stream",
     "text": [
      "C:\\Users\\dell\\AppData\\Local\\Temp\\ipykernel_8344\\311264522.py:1: FutureWarning: Setting an item of incompatible dtype is deprecated and will raise an error in a future version of pandas. Value '' has dtype incompatible with float64, please explicitly cast to a compatible dtype first.\n",
      "  df_merge_part_1.fillna(value=\"\", inplace=True)\n",
      "C:\\Users\\dell\\AppData\\Local\\Temp\\ipykernel_8344\\311264522.py:1: SettingWithCopyWarning: \n",
      "A value is trying to be set on a copy of a slice from a DataFrame\n",
      "\n",
      "See the caveats in the documentation: https://pandas.pydata.org/pandas-docs/stable/user_guide/indexing.html#returning-a-view-versus-a-copy\n",
      "  df_merge_part_1.fillna(value=\"\", inplace=True)\n"
     ]
    }
   ],
   "source": [
    "df_merge_part_1.dropna()"
   ]
  },
  {
   "cell_type": "code",
   "execution_count": 5,
   "id": "7a65629c",
   "metadata": {},
   "outputs": [
    {
     "name": "stdout",
     "output_type": "stream",
     "text": [
      "<class 'pandas.core.frame.DataFrame'>\n",
      "Index: 20990 entries, 0 to 294774\n",
      "Data columns (total 4 columns):\n",
      " #   Column     Non-Null Count  Dtype \n",
      "---  ------     --------------  ----- \n",
      " 0   Số loại    20990 non-null  object\n",
      " 1   Tổng tải   20990 non-null  object\n",
      " 2   Tự trọng   20990 non-null  object\n",
      " 3   Tải trọng  20990 non-null  object\n",
      "dtypes: object(4)\n",
      "memory usage: 819.9+ KB\n"
     ]
    }
   ],
   "source": [
    "df_merge_part_1.info()"
   ]
  },
  {
   "cell_type": "code",
   "execution_count": null,
   "id": "cca32ffc",
   "metadata": {},
   "outputs": [],
   "source": [
    "df23_25_merged = df23_25.merge(df_merge_part_1, on='Số loại', )\n"
   ]
  },
  {
   "cell_type": "code",
   "execution_count": 29,
   "id": "7785969b",
   "metadata": {},
   "outputs": [],
   "source": [
    "df23_25_merged.to_csv(\"df_23_25_merged.csv\", index=False)\n"
   ]
  }
 ],
 "metadata": {
  "kernelspec": {
   "display_name": "base",
   "language": "python",
   "name": "python3"
  },
  "language_info": {
   "codemirror_mode": {
    "name": "ipython",
    "version": 3
   },
   "file_extension": ".py",
   "mimetype": "text/x-python",
   "name": "python",
   "nbconvert_exporter": "python",
   "pygments_lexer": "ipython3",
   "version": "3.13.5"
  }
 },
 "nbformat": 4,
 "nbformat_minor": 5
}
